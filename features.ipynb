{
 "cells": [
  {
   "cell_type": "code",
   "execution_count": 1,
   "metadata": {
    "collapsed": true
   },
   "outputs": [],
   "source": [
    "# Для чтения/записи csv файлов\n",
    "import csv\n",
    "# Для работы с архивами\n",
    "import gzip\n",
    "# Для работы с файловой системой\n",
    "import os\n",
    "# Эффективные массивы простых типов\n",
    "import numpy\n",
    "# Работа с матрицами (подсчет общих друзей реализован как умножение матрицы графа самое на себя)\n",
    "import scipy\n",
    "from scipy.sparse import coo_matrix, csr_matrix"
   ]
  },
  {
   "cell_type": "code",
   "execution_count": 2,
   "metadata": {
    "collapsed": true
   },
   "outputs": [],
   "source": [
    "# Пути к данным\n",
    "dataPath = \"./day3/\"\n",
    "communityPath = os.path.join(dataPath, \"\")\n",
    "demogPath = os.path.join(dataPath, \"coreDemography\")\n",
    "\n",
    "# Основные параметры графа\n",
    "numUsers = 16619131\n",
    "numLinks = 36192484\n",
    "maxUserId = 16619131"
   ]
  },
  {
   "cell_type": "code",
   "execution_count": 3,
   "metadata": {
    "collapsed": true
   },
   "outputs": [],
   "source": [
    "for file in [f for f in os.listdir(demogPath) if f.startswith(\"part\")]:\n",
    "    print(file)\n",
    "    csvinput = gzip.open(os.path.join(demogPath, file), mode='rt')\n",
    "    csv_reader = csv.reader(csvinput, delimiter='\\t')"
   ]
  },
  {
   "cell_type": "code",
   "execution_count": null,
   "metadata": {
    "collapsed": true
   },
   "outputs": [],
   "source": []
  }
 ],
 "metadata": {
  "kernelspec": {
   "display_name": "Python 3",
   "language": "python",
   "name": "python3"
  },
  "language_info": {
   "codemirror_mode": {
    "name": "ipython",
    "version": 3
   },
   "file_extension": ".py",
   "mimetype": "text/x-python",
   "name": "python",
   "nbconvert_exporter": "python",
   "pygments_lexer": "ipython3",
   "version": "3.5.1"
  }
 },
 "nbformat": 4,
 "nbformat_minor": 0
}
