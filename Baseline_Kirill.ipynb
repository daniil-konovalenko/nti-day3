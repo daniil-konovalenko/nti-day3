{
 "cells": [
  {
   "cell_type": "code",
   "execution_count": 1,
   "metadata": {
    "collapsed": true
   },
   "outputs": [],
   "source": [
    "# Для чтения/записи csv файлов\n",
    "import csv\n",
    "# Для работы с архивами\n",
    "import gzip\n",
    "# Для работы с файловой системой\n",
    "import os\n",
    "# Эффективные массивы простых типов\n",
    "import numpy\n",
    "# Работа с матрицами (подсчет общих друзей реализован как умножение матрицы графа самое на себя)\n",
    "import scipy\n",
    "from scipy.sparse import coo_matrix, csr_matrix"
   ]
  },
  {
   "cell_type": "code",
   "execution_count": 4,
   "metadata": {
    "collapsed": true
   },
   "outputs": [],
   "source": [
    "# Пути к данным\n",
    "dataPath = \"./day3/\"\n",
    "graphPath = os.path.join(dataPath, \"trainGraph\")\n",
    "predictionPath = os.path.join(dataPath,\"prediction.gz\")\n",
    "\n",
    "# Основные параметры графа\n",
    "numUsers = 14741543\n",
    "numLinks = 36192484\n",
    "maxUserId = 16619131"
   ]
  },
  {
   "cell_type": "code",
   "execution_count": 7,
   "metadata": {
    "collapsed": false
   },
   "outputs": [
    {
     "name": "stdout",
     "output_type": "stream",
     "text": [
      "part-r-00000.gz\n",
      "part-r-00001.gz\n",
      "part-r-00002.gz\n",
      "part-r-00003.gz\n",
      "part-r-00004.gz\n",
      "part-r-00005.gz\n",
      "part-r-00006.gz\n",
      "part-r-00007.gz\n",
      "part-r-00008.gz\n",
      "part-r-00009.gz\n",
      "part-r-00010.gz\n",
      "part-r-00011.gz\n",
      "part-r-00012.gz\n",
      "part-r-00013.gz\n",
      "part-r-00014.gz\n",
      "part-r-00015.gz\n"
     ]
    }
   ],
   "source": [
    "numLinks = 0\n",
    "allIds = set()\n",
    "maxUserIdFrom = 0\n",
    "maxUserIdTo = 0\n",
    "for file in [f for f in os.listdir(graphPath) if f.startswith(\"part\")]:\n",
    "    print(file)\n",
    "    csvinput = gzip.open(os.path.join(graphPath, file), mode='rt')\n",
    "    csv_reader = csv.reader(csvinput, delimiter='\\t')\n",
    "    # А теперь по строкам в файле\n",
    "    for line in csv_reader:\n",
    "        user = int(line[0])\n",
    "        allIds.add(user)\n",
    "        maxUserId = max(maxUserIdFrom, user)\n",
    "        # Разбираем идшки и маски друзей\n",
    "        for friendship in line[1].replace(\"{(\", \"\").replace(\")}\", \"\").split(\"),(\"):\n",
    "            parts = friendship.split(\",\")\n",
    "            friend = int(friendship[0])\n",
    "            allIds.add(friend)\n",
    "            maxUserIdTo = max(maxUserIdTo,friend)\n",
    "            numLinks += 1\n",
    "            # Записываем связь в массивы и двигаем указатель\n",
    "    csvinput.close()"
   ]
  },
  {
   "cell_type": "code",
   "execution_count": 9,
   "metadata": {
    "collapsed": false
   },
   "outputs": [
    {
     "name": "stdout",
     "output_type": "stream",
     "text": [
      "NumUsers:\t 107483\n",
      "NumLinks:\t 36192484\n",
      "MaxUserIdFrom:\t 0\n",
      "MaxUserIdTo:\t 9\n",
      "\t\t 16619131\n"
     ]
    }
   ],
   "source": [
    "print('NumUsers:\\t', len(allIds))\n",
    "print('NumLinks:\\t', numLinks)\n",
    "print('MaxUserIdFrom:\\t', maxUserIdFrom)\n",
    "print('MaxUserIdTo:\\t', maxUserIdTo)\n",
    "print('\\t\\t', 16619131)"
   ]
  },
  {
   "cell_type": "code",
   "execution_count": 10,
   "metadata": {
    "collapsed": false
   },
   "outputs": [
    {
     "name": "stdout",
     "output_type": "stream",
     "text": [
      "part-r-00000.gz\n",
      "part-r-00001.gz\n",
      "part-r-00002.gz\n",
      "part-r-00003.gz\n",
      "part-r-00004.gz\n",
      "part-r-00005.gz\n",
      "part-r-00006.gz\n",
      "part-r-00007.gz\n",
      "part-r-00008.gz\n",
      "part-r-00009.gz\n",
      "part-r-00010.gz\n",
      "part-r-00011.gz\n",
      "part-r-00012.gz\n",
      "part-r-00013.gz\n",
      "part-r-00014.gz\n",
      "part-r-00015.gz\n"
     ]
    }
   ],
   "source": [
    "# В этих массивах мы будем собирать данные. Инициализируем их заранее нужным размером чтобы \n",
    "# небыло лишнего копирования\n",
    "fromUsers = numpy.zeros( (numLinks), dtype=numpy.int32 ) \n",
    "toUsers = numpy.zeros( (numLinks), dtype=numpy.int32 ) \n",
    "data = numpy.ones( (numLinks), dtype=numpy.int32 ) \n",
    "\n",
    "# Здесь храним позицию, на которую надо записать новую связь\n",
    "current = 0\n",
    "\n",
    "# Итерируемся по файлам в папке\n",
    "for file in [f for f in os.listdir(graphPath) if f.startswith(\"part\")]:\n",
    "    print(file)\n",
    "    csvinput = gzip.open(os.path.join(graphPath, file), mode='rt')\n",
    "    csv_reader = csv.reader(csvinput, delimiter='\\t')\n",
    "    # А теперь по строкам в файле\n",
    "    for line in csv_reader:\n",
    "        user = int(line[0]) \n",
    "        # Разбираем идшки и маски друзей\n",
    "        for friendship in line[1].replace(\"{(\", \"\").replace(\")}\", \"\").split(\"),(\"):\n",
    "            parts=friendship.split(\",\")\n",
    "            # Записываем связь в массивы и двигаем указатель\n",
    "            fromUsers[current] += user\n",
    "            toUsers[current] = int(parts[0])\n",
    "            current += 1\n",
    "            \n",
    "    # Не забываем закрыть файл\n",
    "    csvinput.close()"
   ]
  },
  {
   "cell_type": "code",
   "execution_count": 33,
   "metadata": {
    "collapsed": false
   },
   "outputs": [
    {
     "data": {
      "text/plain": [
       "16619131"
      ]
     },
     "execution_count": 33,
     "metadata": {},
     "output_type": "execute_result"
    }
   ],
   "source": [
    "max(toUsers)"
   ]
  },
  {
   "cell_type": "code",
   "execution_count": 39,
   "metadata": {
    "collapsed": true
   },
   "outputs": [],
   "source": [
    "# Создаем из массивов матрицу. Изначальна матрица хранится в виде списка [i,j,v], но для эффективной \n",
    "# дальнейшей работы нам надо преобразовать в вид [i->[j,v]]\n",
    "fullMatrix = coo_matrix(\n",
    "    (data, (fromUsers, toUsers)),\n",
    "    shape=(maxUserId + 1, maxUserId + 1)).tocsr()\n",
    "\n",
    "# Массивы больше не нужны, удаляем их из памяти\n",
    "del fromUsers\n",
    "del toUsers\n",
    "del data"
   ]
  },
  {
   "cell_type": "code",
   "execution_count": 41,
   "metadata": {
    "collapsed": true
   },
   "outputs": [],
   "source": [
    "# Считаем транспонированную матрицу (колонки и ряды поменяны местами) и её тоже приводим в вид [i->[j,v]]\n",
    "reversedMatrix = scipy.transpose(fullMatrix).tocsr()"
   ]
  },
  {
   "cell_type": "code",
   "execution_count": 6,
   "metadata": {
    "collapsed": true
   },
   "outputs": [],
   "source": [
    "# Поскольку прогноз нам нужно строить только для части пользователей, остальных из\n",
    "# исходной матрицы уберем (забьем нулями)\n",
    "for i in range(maxUserId + 1):\n",
    "    if i % 11 != 7:\n",
    "        ptr = fullMatrix.indptr[i]\n",
    "        ptr_next = fullMatrix.indptr[i+1]\n",
    "        if ptr != ptr_next:\n",
    "            fullMatrix.data[ptr:ptr_next].fill(0)\n",
    "            \n",
    "# Чтобы нули не мешались при умножении, вычистим их и подуменьшим матрицу\n",
    "fullMatrix.eliminate_zeros()"
   ]
  },
  {
   "cell_type": "code",
   "execution_count": 7,
   "metadata": {
    "collapsed": true
   },
   "outputs": [],
   "source": [
    "# Здесь и происходит основная магия - через умножение матриц получаем счетчики общих друзей,\n",
    "# По которым сделаем прогноз\n",
    "commonFriends = fullMatrix.dot(reversedMatrix)"
   ]
  },
  {
   "cell_type": "code",
   "execution_count": 8,
   "metadata": {
    "collapsed": true
   },
   "outputs": [],
   "source": [
    "# Теперь осталось его записать в файл. Открываем врайтеры\n",
    "output = gzip.open(predictionPath, \"w\")\n",
    "writer = csv.writer(output, delimiter='\\t')\n",
    "\n",
    "for i in range(maxUserId + 1):\n",
    "    # Два указателя дают нам границы в которых лежат данные для этого i в матрице\n",
    "    ptr = commonFriends.indptr[i]\n",
    "    ptr_next = commonFriends.indptr[i+1] \n",
    "    # Если они не равны, значит данные есть и можно экспортировать\n",
    "    if ptr != ptr_next:\n",
    "        # Достаем счетчики общих друзей и создаем порядок на них от большего к меньшему\n",
    "        counts = commonFriends.data[ptr:ptr_next]\n",
    "        order = numpy.argsort(-counts)\n",
    "        \n",
    "        # Не забываем что из прогноза надо убрать себя и своих известных друзей\n",
    "        mineFriends = set(fullMatrix.indices[fullMatrix.indptr[i]:fullMatrix.indptr[i+1]])\n",
    "        mineFriends.add(i)\n",
    "        \n",
    "        # Достаем идшки друзей, сортируем, фильтруем, обрезаем и пишем\n",
    "        ids = commonFriends.indices[ptr:ptr_next]        \n",
    "        writer.writerow([i] + filter(lambda x: x not in mineFriends, ids[order])[:42])      \n",
    "\n",
    "# Не забываем закрыть файл\n",
    "output.close()"
   ]
  }
 ],
 "metadata": {
  "kernelspec": {
   "display_name": "Python 3",
   "language": "python",
   "name": "python3"
  },
  "language_info": {
   "codemirror_mode": {
    "name": "ipython",
    "version": 3
   },
   "file_extension": ".py",
   "mimetype": "text/x-python",
   "name": "python",
   "nbconvert_exporter": "python",
   "pygments_lexer": "ipython3",
   "version": "3.5.1"
  }
 },
 "nbformat": 4,
 "nbformat_minor": 0
}
